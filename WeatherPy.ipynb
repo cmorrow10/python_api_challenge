{
 "cells": [
  {
   "cell_type": "markdown",
   "id": "08d14dfd",
   "metadata": {},
   "source": [
    "## WeatherPy"
   ]
  },
  {
   "cell_type": "code",
   "execution_count": 1,
   "id": "60b744d6",
   "metadata": {},
   "outputs": [],
   "source": [
    "# Dependencies and Setup\n",
    "import matplotlib.pyplot as plt\n",
    "import pandas as pd\n",
    "import numpy as np\n",
    "import json\n",
    "import scipy.stats as st\n",
    "import requests\n",
    "import time\n",
    "from scipy.stats import linregress\n",
    "\n",
    "# Import citipy to determine the cities based on latitude and longitude\n",
    "from citipy import citipy\n",
    "\n",
    "# Import the OpenWeatherMap API key\n",
    "from api_keys import OPENWEATHER_KEY"
   ]
  },
  {
   "cell_type": "code",
   "execution_count": 2,
   "id": "2c643c19",
   "metadata": {},
   "outputs": [
    {
     "name": "stdout",
     "output_type": "stream",
     "text": [
      "Number of cities in the list: 608\n"
     ]
    }
   ],
   "source": [
    "# Empty list for holding the latitude and longitude combinations\n",
    "lat_lngs = []\n",
    "\n",
    "# Empty list for holding the cities names\n",
    "cities = []\n",
    "\n",
    "# Range of latitudes and longitudes\n",
    "lat_range = (-90, 90)\n",
    "lng_range = (-180, 180)\n",
    "\n",
    "# Create a set of random lat and lng combinations\n",
    "lats = np.random.uniform(lat_range[0], lat_range[1], size=1500)\n",
    "lngs = np.random.uniform(lng_range[0], lng_range[1], size=1500)\n",
    "lat_lngs = zip(lats, lngs)\n",
    "\n",
    "# Identify nearest city for each lat, lng combination\n",
    "for lat_lng in lat_lngs:\n",
    "    city = citipy.nearest_city(lat_lng[0], lat_lng[1]).city_name\n",
    "    \n",
    "    # If the city is unique, then add it to a our cities list\n",
    "    if city not in cities:\n",
    "        cities.append(city)\n",
    "\n",
    "# Print the city count to confirm sufficient count\n",
    "print(f\"Number of cities in the list: {len(cities)}\")"
   ]
  },
  {
   "cell_type": "code",
   "execution_count": 24,
   "id": "f9453abd",
   "metadata": {},
   "outputs": [
    {
     "name": "stdout",
     "output_type": "stream",
     "text": [
      "Beginning Data Retrieval     \n",
      "-----------------------------\n",
      "Processing Record 1 of Set 1 | puerto natales\n",
      "Processing Record 2 of Set 1 | qamdo\n",
      "Processing Record 3 of Set 1 | nar'yan-mar\n",
      "Processing Record 4 of Set 1 | cadale\n",
      "Processing Record 5 of Set 1 | alofi\n",
      "Processing Record 6 of Set 1 | albany\n",
      "Processing Record 7 of Set 1 | georgetown\n",
      "Processing Record 8 of Set 1 | adamstown\n",
      "Processing Record 9 of Set 1 | grytviken\n",
      "Processing Record 10 of Set 1 | campo grande\n",
      "Processing Record 11 of Set 1 | margaret river\n",
      "Processing Record 12 of Set 1 | enewetak\n",
      "Processing Record 13 of Set 1 | port-aux-francais\n",
      "Processing Record 14 of Set 1 | hasaki\n",
      "Processing Record 15 of Set 1 | tiksi\n",
      "Processing Record 16 of Set 1 | flying fish cove\n",
      "Processing Record 17 of Set 1 | edinburgh of the seven seas\n",
      "Processing Record 18 of Set 1 | broceni\n",
      "Processing Record 19 of Set 1 | vila velha\n",
      "Processing Record 20 of Set 1 | baise city\n",
      "Processing Record 21 of Set 1 | whitehorse\n",
      "Processing Record 22 of Set 1 | invercargill\n",
      "Processing Record 23 of Set 1 | waitangi\n",
      "Processing Record 24 of Set 1 | iqaluit\n",
      "Processing Record 25 of Set 1 | ouellah\n",
      "City not found. Skipping...\n",
      "Processing Record 26 of Set 1 | yellowknife\n",
      "Processing Record 27 of Set 1 | anadyr\n",
      "Processing Record 28 of Set 1 | college\n",
      "Processing Record 29 of Set 1 | blackmans bay\n",
      "Processing Record 30 of Set 1 | ushuaia\n",
      "Processing Record 31 of Set 1 | mundri\n",
      "Processing Record 32 of Set 1 | yuzhno-kurilsk\n",
      "Processing Record 33 of Set 1 | kutum\n",
      "Processing Record 34 of Set 1 | dunedin\n",
      "Processing Record 35 of Set 1 | dadonghai\n",
      "City not found. Skipping...\n",
      "Processing Record 36 of Set 1 | holualoa\n",
      "Processing Record 37 of Set 1 | chul'man\n",
      "Processing Record 38 of Set 1 | kapuskasing\n",
      "Processing Record 39 of Set 1 | malinyi\n",
      "Processing Record 40 of Set 1 | kununurra\n",
      "Processing Record 41 of Set 1 | nuuk\n",
      "Processing Record 42 of Set 1 | albertina\n",
      "Processing Record 43 of Set 1 | new norfolk\n",
      "Processing Record 44 of Set 1 | happy valley-goose bay\n",
      "Processing Record 45 of Set 1 | klyuchi\n",
      "Processing Record 46 of Set 1 | el bolson\n",
      "Processing Record 47 of Set 1 | kokuy\n",
      "Processing Record 48 of Set 1 | lata\n",
      "Processing Record 49 of Set 1 | moengo\n",
      "Processing Record 50 of Set 1 | nova sintra\n",
      "Processing Record 0 of Set 2 | vorgashor\n",
      "Processing Record 1 of Set 2 | mount gambier\n",
      "Processing Record 2 of Set 2 | jamestown\n",
      "Processing Record 3 of Set 2 | veraval\n",
      "Processing Record 4 of Set 2 | novyy urgal\n",
      "Processing Record 5 of Set 2 | severo-yeniseyskiy\n",
      "Processing Record 6 of Set 2 | mhamid\n",
      "Processing Record 7 of Set 2 | novomykolayivka\n",
      "Processing Record 8 of Set 2 | kirovskiy\n",
      "Processing Record 9 of Set 2 | la'ie\n",
      "Processing Record 10 of Set 2 | ruidoso\n",
      "Processing Record 11 of Set 2 | brak\n",
      "Processing Record 12 of Set 2 | puerto baquerizo moreno\n",
      "Processing Record 13 of Set 2 | locharbriggs\n",
      "Processing Record 14 of Set 2 | brookings\n",
      "Processing Record 15 of Set 2 | hawaiian paradise park\n",
      "Processing Record 16 of Set 2 | okha\n",
      "Processing Record 17 of Set 2 | west island\n",
      "Processing Record 18 of Set 2 | pacific grove\n",
      "Processing Record 19 of Set 2 | smithers\n",
      "Processing Record 20 of Set 2 | flin flon\n",
      "Processing Record 21 of Set 2 | isangel\n",
      "Processing Record 22 of Set 2 | fortuna\n",
      "Processing Record 23 of Set 2 | shwebo\n",
      "Processing Record 24 of Set 2 | bethel\n",
      "Processing Record 25 of Set 2 | hithadhoo\n",
      "Processing Record 26 of Set 2 | bahia honda\n",
      "Processing Record 27 of Set 2 | saldanha\n",
      "Processing Record 28 of Set 2 | lagoa\n",
      "Processing Record 29 of Set 2 | puerto ayora\n",
      "Processing Record 30 of Set 2 | as sulayyil\n",
      "Processing Record 31 of Set 2 | novokazalinsk\n",
      "City not found. Skipping...\n",
      "Processing Record 32 of Set 2 | yangor\n",
      "City not found. Skipping...\n",
      "Processing Record 33 of Set 2 | lensk\n",
      "Processing Record 34 of Set 2 | puerto deseado\n",
      "Processing Record 35 of Set 2 | taiohae\n",
      "City not found. Skipping...\n",
      "Processing Record 36 of Set 2 | hamilton\n",
      "Processing Record 37 of Set 2 | boguchany\n",
      "Processing Record 38 of Set 2 | arraial do cabo\n",
      "Processing Record 39 of Set 2 | lihue\n",
      "Processing Record 40 of Set 2 | walvis bay\n",
      "Processing Record 41 of Set 2 | thompson\n",
      "Processing Record 42 of Set 2 | qaqortoq\n",
      "Processing Record 43 of Set 2 | gukovo\n",
      "Processing Record 44 of Set 2 | vilyuchinsk\n",
      "Processing Record 45 of Set 2 | ust-nera\n",
      "Processing Record 46 of Set 2 | kyren\n",
      "Processing Record 47 of Set 2 | labuan lombok\n",
      "City not found. Skipping...\n",
      "Processing Record 48 of Set 2 | katsuura\n",
      "Processing Record 49 of Set 2 | murghob\n",
      "Processing Record 0 of Set 3 | iskateley\n",
      "Processing Record 1 of Set 3 | fuvahmulah\n",
      "City not found. Skipping...\n",
      "Processing Record 2 of Set 3 | la ronge\n",
      "Processing Record 3 of Set 3 | bilibino\n",
      "Processing Record 4 of Set 3 | macau\n",
      "Processing Record 5 of Set 3 | aasiaat\n",
      "Processing Record 6 of Set 3 | luderitz\n",
      "Processing Record 7 of Set 3 | weno\n",
      "Processing Record 8 of Set 3 | talara\n",
      "Processing Record 9 of Set 3 | prince george\n",
      "Processing Record 10 of Set 3 | bonadelle ranchos-madera ranchos\n",
      "Processing Record 11 of Set 3 | nzega\n",
      "Processing Record 12 of Set 3 | lompoc\n",
      "Processing Record 13 of Set 3 | jais\n",
      "Processing Record 14 of Set 3 | maceio\n",
      "Processing Record 15 of Set 3 | turpan\n",
      "Processing Record 16 of Set 3 | longyearbyen\n",
      "Processing Record 17 of Set 3 | tokar\n",
      "Processing Record 18 of Set 3 | peravurani\n",
      "Processing Record 19 of Set 3 | olonkinbyen\n",
      "Processing Record 20 of Set 3 | yelizovo\n",
      "Processing Record 21 of Set 3 | novodvinsk\n",
      "Processing Record 22 of Set 3 | governor's harbour\n",
      "City not found. Skipping...\n",
      "Processing Record 23 of Set 3 | hermanus\n",
      "Processing Record 24 of Set 3 | avarua\n",
      "Processing Record 25 of Set 3 | minas de marcona\n",
      "Processing Record 26 of Set 3 | suva\n",
      "Processing Record 27 of Set 3 | labytnangi\n",
      "Processing Record 28 of Set 3 | wailua homesteads\n",
      "Processing Record 29 of Set 3 | sathyamangalam\n",
      "Processing Record 30 of Set 3 | karratha\n",
      "Processing Record 31 of Set 3 | guerrero negro\n",
      "Processing Record 32 of Set 3 | anibare\n",
      "City not found. Skipping...\n",
      "Processing Record 33 of Set 3 | aripuana\n",
      "Processing Record 34 of Set 3 | francistown\n",
      "Processing Record 35 of Set 3 | cockburn town\n",
      "Processing Record 36 of Set 3 | salto\n",
      "Processing Record 37 of Set 3 | papatowai\n",
      "Processing Record 38 of Set 3 | ta`u\n",
      "Processing Record 39 of Set 3 | tocopilla\n",
      "Processing Record 40 of Set 3 | uboldo\n",
      "Processing Record 41 of Set 3 | bonthe\n",
      "Processing Record 42 of Set 3 | beau vallon\n",
      "Processing Record 43 of Set 3 | constantia\n",
      "Processing Record 44 of Set 3 | cabo san lucas\n",
      "Processing Record 45 of Set 3 | cabugao\n",
      "Processing Record 46 of Set 3 | ilulissat\n",
      "Processing Record 47 of Set 3 | ciro redondo\n",
      "Processing Record 48 of Set 3 | yuzhno-sakhalinsk\n",
      "Processing Record 49 of Set 3 | utrik\n",
      "Processing Record 0 of Set 4 | tolanaro\n",
      "Processing Record 1 of Set 4 | colonia\n",
      "Processing Record 2 of Set 4 | choibalsan\n",
      "Processing Record 3 of Set 4 | balabac\n",
      "Processing Record 4 of Set 4 | grand-bassam\n",
      "Processing Record 5 of Set 4 | carnarvon\n",
      "Processing Record 6 of Set 4 | ceggia\n",
      "Processing Record 7 of Set 4 | toga village\n",
      "City not found. Skipping...\n",
      "Processing Record 8 of Set 4 | stanley\n",
      "Processing Record 9 of Set 4 | manicore\n",
      "Processing Record 10 of Set 4 | port lincoln\n",
      "Processing Record 11 of Set 4 | burutu\n",
      "Processing Record 12 of Set 4 | malanje\n",
      "Processing Record 13 of Set 4 | ribeira grande\n",
      "Processing Record 14 of Set 4 | lebu\n",
      "Processing Record 15 of Set 4 | yekaterinoslavka\n",
      "Processing Record 16 of Set 4 | matane\n",
      "Processing Record 17 of Set 4 | susuman\n",
      "Processing Record 18 of Set 4 | masterton\n",
      "Processing Record 19 of Set 4 | inarajan village\n",
      "Processing Record 20 of Set 4 | port mathurin\n",
      "Processing Record 21 of Set 4 | skarszewy\n",
      "Processing Record 22 of Set 4 | westport\n",
      "Processing Record 23 of Set 4 | timbuktu\n",
      "Processing Record 24 of Set 4 | saipan\n",
      "Processing Record 25 of Set 4 | murashi\n",
      "Processing Record 26 of Set 4 | prince rupert\n",
      "Processing Record 27 of Set 4 | kampot\n",
      "Processing Record 28 of Set 4 | isafjordur\n",
      "Processing Record 29 of Set 4 | namibe\n",
      "Processing Record 30 of Set 4 | ebon\n",
      "Processing Record 31 of Set 4 | harper\n",
      "Processing Record 32 of Set 4 | palmer\n",
      "Processing Record 33 of Set 4 | zakamensk\n",
      "Processing Record 34 of Set 4 | auki\n",
      "Processing Record 35 of Set 4 | hammerfest\n",
      "Processing Record 36 of Set 4 | toliara\n",
      "Processing Record 37 of Set 4 | port alfred\n",
      "Processing Record 38 of Set 4 | blagoveshchenka\n",
      "Processing Record 39 of Set 4 | tazovsky\n",
      "Processing Record 40 of Set 4 | yangquan\n",
      "Processing Record 41 of Set 4 | arkhangel'sk\n",
      "Processing Record 42 of Set 4 | palu\n",
      "Processing Record 43 of Set 4 | tofol\n",
      "Processing Record 44 of Set 4 | san jeronimo de juarez\n",
      "Processing Record 45 of Set 4 | fernley\n",
      "Processing Record 46 of Set 4 | novyy urengoy\n",
      "Processing Record 47 of Set 4 | dawesville\n",
      "Processing Record 48 of Set 4 | yung shue wan\n",
      "Processing Record 49 of Set 4 | codrington\n",
      "Processing Record 0 of Set 5 | san pedro pochutla\n",
      "Processing Record 1 of Set 5 | mournies\n",
      "Processing Record 2 of Set 5 | nishinoomote\n",
      "Processing Record 3 of Set 5 | tura\n",
      "Processing Record 4 of Set 5 | nyurba\n",
      "Processing Record 5 of Set 5 | bredasdorp\n",
      "Processing Record 6 of Set 5 | altusried\n",
      "Processing Record 7 of Set 5 | mahibadhoo\n",
      "Processing Record 8 of Set 5 | antofagasta\n",
      "Processing Record 9 of Set 5 | nemuro\n",
      "Processing Record 10 of Set 5 | nouadhibou\n",
      "Processing Record 11 of Set 5 | altai\n",
      "Processing Record 12 of Set 5 | port-cartier\n",
      "Processing Record 13 of Set 5 | hurricane\n",
      "Processing Record 14 of Set 5 | nushki\n",
      "Processing Record 15 of Set 5 | kenora\n",
      "Processing Record 16 of Set 5 | alotau\n",
      "City not found. Skipping...\n",
      "Processing Record 17 of Set 5 | malango\n",
      "Processing Record 18 of Set 5 | sonsorol village\n",
      "City not found. Skipping...\n",
      "Processing Record 19 of Set 5 | bandarbeyla\n",
      "Processing Record 20 of Set 5 | ha'il\n",
      "Processing Record 21 of Set 5 | limulunga\n",
      "Processing Record 22 of Set 5 | am timan\n",
      "Processing Record 23 of Set 5 | klaksvik\n",
      "Processing Record 24 of Set 5 | porto novo\n",
      "Processing Record 25 of Set 5 | urcos\n",
      "Processing Record 26 of Set 5 | nabire\n",
      "Processing Record 27 of Set 5 | conde\n",
      "Processing Record 28 of Set 5 | san buenaventura\n",
      "Processing Record 29 of Set 5 | staryy dobrotvir\n",
      "Processing Record 30 of Set 5 | quellon\n",
      "Processing Record 31 of Set 5 | st. john's\n",
      "Processing Record 32 of Set 5 | papao\n",
      "Processing Record 33 of Set 5 | kenai\n",
      "Processing Record 34 of Set 5 | alice springs\n",
      "Processing Record 35 of Set 5 | igrim\n",
      "Processing Record 36 of Set 5 | northam\n",
      "Processing Record 37 of Set 5 | selfoss\n",
      "Processing Record 38 of Set 5 | makaha\n",
      "Processing Record 39 of Set 5 | port elizabeth\n",
      "Processing Record 40 of Set 5 | tuyen quang\n",
      "Processing Record 41 of Set 5 | mongo\n",
      "Processing Record 42 of Set 5 | caldas novas\n",
      "Processing Record 43 of Set 5 | salinas\n",
      "Processing Record 44 of Set 5 | tralee\n",
      "Processing Record 45 of Set 5 | damara\n",
      "Processing Record 46 of Set 5 | fuyuan\n",
      "Processing Record 47 of Set 5 | saint-philippe\n",
      "Processing Record 48 of Set 5 | pachino\n",
      "Processing Record 49 of Set 5 | jilotepec de molina enriquez\n",
      "Processing Record 0 of Set 6 | yarkovo\n",
      "Processing Record 1 of Set 6 | sitka\n",
      "Processing Record 2 of Set 6 | abqaiq\n",
      "Processing Record 3 of Set 6 | macia\n",
      "Processing Record 4 of Set 6 | marsh harbour\n",
      "Processing Record 5 of Set 6 | fiambala\n",
      "Processing Record 6 of Set 6 | sinabang\n",
      "Processing Record 7 of Set 6 | pangkalanbuun\n",
      "Processing Record 8 of Set 6 | mejit\n",
      "Processing Record 9 of Set 6 | roxas\n",
      "Processing Record 10 of Set 6 | celestun\n",
      "Processing Record 11 of Set 6 | hadibu\n",
      "Processing Record 12 of Set 6 | bluefields\n",
      "Processing Record 13 of Set 6 | luxeuil-les-bains\n",
      "Processing Record 14 of Set 6 | taoudenni\n",
      "Processing Record 15 of Set 6 | tonsberg\n",
      "Processing Record 16 of Set 6 | brokopondo\n",
      "Processing Record 17 of Set 6 | puerto san carlos\n",
      "City not found. Skipping...\n",
      "Processing Record 18 of Set 6 | valparaiso\n",
      "Processing Record 19 of Set 6 | ilomantsi\n",
      "Processing Record 20 of Set 6 | altamira\n",
      "Processing Record 21 of Set 6 | kamyshin\n",
      "Processing Record 22 of Set 6 | punta arenas\n",
      "Processing Record 23 of Set 6 | chiredzi\n",
      "Processing Record 24 of Set 6 | antsiranana\n",
      "Processing Record 25 of Set 6 | gadani\n",
      "Processing Record 26 of Set 6 | verkhnevilyuysk\n",
      "Processing Record 27 of Set 6 | mao\n",
      "Processing Record 28 of Set 6 | mazatlan\n",
      "Processing Record 29 of Set 6 | nicoya\n",
      "Processing Record 30 of Set 6 | djibouti\n",
      "Processing Record 31 of Set 6 | kangal\n",
      "Processing Record 32 of Set 6 | fort bragg\n",
      "Processing Record 33 of Set 6 | karatas\n",
      "Processing Record 34 of Set 6 | bulgan\n",
      "Processing Record 35 of Set 6 | karakulino\n",
      "Processing Record 36 of Set 6 | houghton\n",
      "Processing Record 37 of Set 6 | pendleton\n",
      "Processing Record 38 of Set 6 | savanna-la-mar\n",
      "Processing Record 39 of Set 6 | marina di andora\n",
      "City not found. Skipping...\n",
      "Processing Record 40 of Set 6 | antigonish\n",
      "Processing Record 41 of Set 6 | ghadamis\n",
      "Processing Record 42 of Set 6 | karkira\n",
      "Processing Record 43 of Set 6 | dongcun\n",
      "Processing Record 44 of Set 6 | belmonte\n",
      "Processing Record 45 of Set 6 | champerico\n",
      "Processing Record 46 of Set 6 | san patricio\n",
      "Processing Record 47 of Set 6 | petropavlovsk-kamchatsky\n",
      "Processing Record 48 of Set 6 | znamenskoye\n",
      "Processing Record 49 of Set 6 | tarauaca\n",
      "Processing Record 0 of Set 7 | afaahiti\n",
      "Processing Record 1 of Set 7 | leava\n",
      "Processing Record 2 of Set 7 | canutama\n",
      "Processing Record 3 of Set 7 | banda aceh\n",
      "Processing Record 4 of Set 7 | fada\n",
      "Processing Record 5 of Set 7 | palikir - national government center\n",
      "Processing Record 6 of Set 7 | qapqal\n",
      "City not found. Skipping...\n",
      "Processing Record 7 of Set 7 | ardakan\n",
      "Processing Record 8 of Set 7 | yemva\n",
      "Processing Record 9 of Set 7 | ancud\n",
      "Processing Record 10 of Set 7 | i-n-salah\n",
      "Processing Record 11 of Set 7 | mezhdurechenskiy\n",
      "Processing Record 12 of Set 7 | bouillante\n",
      "Processing Record 13 of Set 7 | motilla del palancar\n",
      "Processing Record 14 of Set 7 | aljezur\n",
      "Processing Record 15 of Set 7 | amplepuis\n",
      "Processing Record 16 of Set 7 | daru\n",
      "Processing Record 17 of Set 7 | kuching\n",
      "Processing Record 18 of Set 7 | cruzeiro do sul\n",
      "Processing Record 19 of Set 7 | kunjah\n",
      "Processing Record 20 of Set 7 | olutanga\n",
      "Processing Record 21 of Set 7 | crane\n",
      "Processing Record 22 of Set 7 | atafu village\n",
      "Processing Record 23 of Set 7 | vadso\n",
      "Processing Record 24 of Set 7 | imperia\n",
      "Processing Record 25 of Set 7 | narvik\n",
      "Processing Record 26 of Set 7 | osh\n",
      "Processing Record 27 of Set 7 | arawa\n",
      "Processing Record 28 of Set 7 | gemena\n",
      "Processing Record 29 of Set 7 | ciudad lazaro cardenas\n",
      "Processing Record 30 of Set 7 | bowen\n",
      "Processing Record 31 of Set 7 | chudniv\n",
      "Processing Record 32 of Set 7 | ola\n",
      "Processing Record 33 of Set 7 | egilsstadir\n",
      "Processing Record 34 of Set 7 | revda\n",
      "Processing Record 35 of Set 7 | tual\n",
      "Processing Record 36 of Set 7 | yermentau\n",
      "Processing Record 37 of Set 7 | touros\n",
      "Processing Record 38 of Set 7 | keflavik\n",
      "Processing Record 39 of Set 7 | fale old settlement\n",
      "Processing Record 40 of Set 7 | letlhakeng\n",
      "Processing Record 41 of Set 7 | souillac\n",
      "Processing Record 42 of Set 7 | san-pedro\n",
      "Processing Record 43 of Set 7 | yorkton\n",
      "Processing Record 44 of Set 7 | hadsund\n",
      "Processing Record 45 of Set 7 | tarfaya\n",
      "Processing Record 46 of Set 7 | olinda\n",
      "Processing Record 47 of Set 7 | shibganj\n",
      "Processing Record 48 of Set 7 | oranjemund\n",
      "Processing Record 49 of Set 7 | mandalgovi\n",
      "Processing Record 0 of Set 8 | selkirk\n",
      "Processing Record 1 of Set 8 | funafuti\n",
      "Processing Record 2 of Set 8 | evanston\n",
      "Processing Record 3 of Set 8 | dudinka\n",
      "Processing Record 4 of Set 8 | cable beach\n",
      "City not found. Skipping...\n",
      "Processing Record 5 of Set 8 | ivins\n",
      "Processing Record 6 of Set 8 | kodiak\n",
      "Processing Record 7 of Set 8 | newman\n",
      "Processing Record 8 of Set 8 | kristiansund\n",
      "Processing Record 9 of Set 8 | waddan\n",
      "Processing Record 10 of Set 8 | barbacoas\n",
      "Processing Record 11 of Set 8 | jincheng\n",
      "Processing Record 12 of Set 8 | khuza'ah\n",
      "City not found. Skipping...\n",
      "Processing Record 13 of Set 8 | la passe\n",
      "Processing Record 14 of Set 8 | mount isa\n",
      "Processing Record 15 of Set 8 | bazar-e yakawlang\n",
      "City not found. Skipping...\n",
      "Processing Record 16 of Set 8 | sao joao da barra\n",
      "Processing Record 17 of Set 8 | mo i rana\n",
      "Processing Record 18 of Set 8 | margate\n",
      "Processing Record 19 of Set 8 | sidi ifni\n",
      "Processing Record 20 of Set 8 | garachico\n",
      "Processing Record 21 of Set 8 | kiunga\n",
      "Processing Record 22 of Set 8 | union city\n",
      "Processing Record 23 of Set 8 | sur\n",
      "Processing Record 24 of Set 8 | keetmanshoop\n",
      "Processing Record 25 of Set 8 | inhambane\n",
      "Processing Record 26 of Set 8 | nova vicosa\n",
      "Processing Record 27 of Set 8 | udachny\n",
      "Processing Record 28 of Set 8 | itaberai\n",
      "Processing Record 29 of Set 8 | gwadar\n",
      "Processing Record 30 of Set 8 | shingu\n",
      "Processing Record 31 of Set 8 | levski\n",
      "Processing Record 32 of Set 8 | yeniseysk\n",
      "Processing Record 33 of Set 8 | kiselevsk\n",
      "Processing Record 34 of Set 8 | cargados carajos\n",
      "City not found. Skipping...\n",
      "Processing Record 35 of Set 8 | bangar\n",
      "Processing Record 36 of Set 8 | zhezqazghan\n",
      "Processing Record 37 of Set 8 | lusaka\n",
      "Processing Record 38 of Set 8 | micheweni\n",
      "Processing Record 39 of Set 8 | port douglas\n",
      "Processing Record 40 of Set 8 | mount pearl\n",
      "Processing Record 41 of Set 8 | vingt cinq\n",
      "City not found. Skipping...\n",
      "Processing Record 42 of Set 8 | peace river\n",
      "Processing Record 43 of Set 8 | muisne\n",
      "Processing Record 44 of Set 8 | sorong\n",
      "Processing Record 45 of Set 8 | timbiqui\n",
      "Processing Record 46 of Set 8 | darab\n",
      "Processing Record 47 of Set 8 | usinsk\n",
      "Processing Record 48 of Set 8 | portland\n",
      "Processing Record 49 of Set 8 | remire-montjoly\n",
      "Processing Record 0 of Set 9 | alvaraes\n",
      "Processing Record 1 of Set 9 | miquelon\n",
      "Processing Record 2 of Set 9 | howrah\n",
      "Processing Record 3 of Set 9 | golpayegan\n",
      "Processing Record 4 of Set 9 | gadzhiyevo\n",
      "Processing Record 5 of Set 9 | huarmey\n",
      "Processing Record 6 of Set 9 | villa dolores\n",
      "Processing Record 7 of Set 9 | jinchang\n",
      "Processing Record 8 of Set 9 | vilhena\n",
      "Processing Record 9 of Set 9 | bouarfa\n",
      "Processing Record 10 of Set 9 | eldorado\n",
      "Processing Record 11 of Set 9 | kaga bandoro\n",
      "Processing Record 12 of Set 9 | talnakh\n",
      "Processing Record 13 of Set 9 | bardai\n",
      "Processing Record 14 of Set 9 | gisborne\n",
      "Processing Record 15 of Set 9 | peruibe\n",
      "Processing Record 16 of Set 9 | san juan\n",
      "Processing Record 17 of Set 9 | sao miguel do araguaia\n",
      "Processing Record 18 of Set 9 | puerto cabezas\n",
      "Processing Record 19 of Set 9 | monroeville\n",
      "Processing Record 20 of Set 9 | zemio\n",
      "Processing Record 21 of Set 9 | saint-joseph\n",
      "Processing Record 22 of Set 9 | fort st. john\n",
      "Processing Record 23 of Set 9 | kayangel\n",
      "Processing Record 24 of Set 9 | ocean pointe\n",
      "City not found. Skipping...\n",
      "Processing Record 25 of Set 9 | alaghsas\n",
      "Processing Record 26 of Set 9 | charlottetown\n",
      "Processing Record 27 of Set 9 | edson\n",
      "Processing Record 28 of Set 9 | cove\n",
      "Processing Record 29 of Set 9 | praia da vitoria\n",
      "Processing Record 30 of Set 9 | luau\n",
      "Processing Record 31 of Set 9 | ontario\n",
      "Processing Record 32 of Set 9 | islamkot\n",
      "Processing Record 33 of Set 9 | cabedelo\n",
      "Processing Record 34 of Set 9 | badger\n",
      "Processing Record 35 of Set 9 | chibougamau\n",
      "Processing Record 36 of Set 9 | chardara\n",
      "Processing Record 37 of Set 9 | 'ohonua\n",
      "City not found. Skipping...\n",
      "Processing Record 38 of Set 9 | saint-pierre\n",
      "Processing Record 39 of Set 9 | el granada\n",
      "Processing Record 40 of Set 9 | tromso\n",
      "Processing Record 41 of Set 9 | port shepstone\n",
      "Processing Record 42 of Set 9 | acapulco de juarez\n",
      "Processing Record 43 of Set 9 | coahuayana de hidalgo\n",
      "Processing Record 44 of Set 9 | katsuren-haebaru\n",
      "Processing Record 45 of Set 9 | cururupu\n",
      "Processing Record 46 of Set 9 | yugorsk\n",
      "Processing Record 47 of Set 9 | sao vicente\n",
      "Processing Record 48 of Set 9 | mingguang\n",
      "Processing Record 49 of Set 9 | nangomba\n",
      "Processing Record 0 of Set 10 | calca\n",
      "Processing Record 1 of Set 10 | paramonga\n",
      "Processing Record 2 of Set 10 | port blair\n",
      "Processing Record 3 of Set 10 | ouadda\n",
      "Processing Record 4 of Set 10 | chonchi\n",
      "Processing Record 5 of Set 10 | shache\n",
      "Processing Record 6 of Set 10 | tanjung sepat\n",
      "Processing Record 7 of Set 10 | ballina\n",
      "Processing Record 8 of Set 10 | caleta de carquin\n",
      "Processing Record 9 of Set 10 | fredericton\n",
      "Processing Record 10 of Set 10 | kuta\n",
      "Processing Record 11 of Set 10 | el calafate\n",
      "Processing Record 12 of Set 10 | ramos arizpe\n",
      "Processing Record 13 of Set 10 | praya\n",
      "Processing Record 14 of Set 10 | chernyshevsk\n",
      "Processing Record 15 of Set 10 | markovo\n",
      "Processing Record 16 of Set 10 | zag\n",
      "Processing Record 17 of Set 10 | 'ain boucif\n",
      "Processing Record 18 of Set 10 | bardsir\n",
      "Processing Record 19 of Set 10 | hovd\n",
      "Processing Record 20 of Set 10 | quelimane\n",
      "Processing Record 21 of Set 10 | mtwara\n",
      "Processing Record 22 of Set 10 | yasnogorsk\n",
      "Processing Record 23 of Set 10 | mugumu\n",
      "Processing Record 24 of Set 10 | coruripe\n",
      "Processing Record 25 of Set 10 | libertad\n",
      "Processing Record 26 of Set 10 | acarau\n",
      "Processing Record 27 of Set 10 | tafuna\n",
      "Processing Record 28 of Set 10 | praia\n",
      "Processing Record 29 of Set 10 | rongelap\n",
      "Processing Record 30 of Set 10 | geraldton\n",
      "Processing Record 31 of Set 10 | talcahuano\n",
      "Processing Record 32 of Set 10 | bechar\n",
      "Processing Record 33 of Set 10 | puerto santa\n",
      "Processing Record 34 of Set 10 | skagen\n",
      "Processing Record 35 of Set 10 | panarukan\n",
      "Processing Record 36 of Set 10 | benguela\n",
      "Processing Record 37 of Set 10 | zhongxiang\n",
      "Processing Record 38 of Set 10 | gillette\n",
      "Processing Record 39 of Set 10 | conceicao da barra\n",
      "Processing Record 40 of Set 10 | pisco\n",
      "Processing Record 41 of Set 10 | boujniba\n",
      "Processing Record 42 of Set 10 | sanger\n",
      "Processing Record 43 of Set 10 | mareeba\n",
      "Processing Record 44 of Set 10 | jeddah\n",
      "Processing Record 45 of Set 10 | lhasa\n",
      "Processing Record 46 of Set 10 | zalingei\n",
      "Processing Record 47 of Set 10 | sitarganj\n",
      "Processing Record 48 of Set 10 | ketchikan\n",
      "Processing Record 49 of Set 10 | noshiro\n",
      "Processing Record 0 of Set 11 | kalmunai\n",
      "Processing Record 1 of Set 11 | kitui\n",
      "Processing Record 2 of Set 11 | island harbour\n",
      "Processing Record 3 of Set 11 | mil'kovo\n",
      "Processing Record 4 of Set 11 | rabo de peixe\n",
      "Processing Record 5 of Set 11 | ngereklmadel\n",
      "Processing Record 6 of Set 11 | sarupathar\n",
      "Processing Record 7 of Set 11 | kourou\n",
      "Processing Record 8 of Set 11 | san felipe\n",
      "Processing Record 9 of Set 11 | manaure\n",
      "Processing Record 10 of Set 11 | tete\n",
      "Processing Record 11 of Set 11 | tsiombe\n",
      "Processing Record 12 of Set 11 | san antonio de pale\n",
      "Processing Record 13 of Set 11 | namdrik\n",
      "Processing Record 14 of Set 11 | recreo\n",
      "Processing Record 15 of Set 11 | dalandzadgad\n",
      "Processing Record 16 of Set 11 | galesong\n",
      "Processing Record 17 of Set 11 | shumikha\n",
      "Processing Record 18 of Set 11 | gracemere\n",
      "Processing Record 19 of Set 11 | nguruka\n",
      "Processing Record 20 of Set 11 | goure\n",
      "Processing Record 21 of Set 11 | concepcion\n",
      "Processing Record 22 of Set 11 | machico\n",
      "Processing Record 23 of Set 11 | gumel\n",
      "Processing Record 24 of Set 11 | labrador city\n",
      "Processing Record 25 of Set 11 | ghat\n",
      "Processing Record 26 of Set 11 | alytus\n",
      "Processing Record 27 of Set 11 | villa gesell\n",
      "Processing Record 28 of Set 11 | chilecito\n",
      "Processing Record 29 of Set 11 | norilsk\n",
      "Processing Record 30 of Set 11 | mana\n",
      "Processing Record 31 of Set 11 | isabel segunda\n",
      "Processing Record 32 of Set 11 | hami\n",
      "Processing Record 33 of Set 11 | little cayman\n",
      "City not found. Skipping...\n",
      "Processing Record 34 of Set 11 | tucuma\n",
      "Processing Record 35 of Set 11 | fuyang\n",
      "Processing Record 36 of Set 11 | copsa mica\n",
      "Processing Record 37 of Set 11 | kingston\n",
      "Processing Record 38 of Set 11 | yoloten\n",
      "Processing Record 39 of Set 11 | ondangwa\n",
      "Processing Record 40 of Set 11 | rio grande\n",
      "Processing Record 41 of Set 11 | stavern\n",
      "Processing Record 42 of Set 11 | lhuentse\n",
      "Processing Record 43 of Set 11 | wuwei\n",
      "Processing Record 44 of Set 11 | gagliano del capo\n",
      "Processing Record 45 of Set 11 | tobi village\n",
      "City not found. Skipping...\n",
      "Processing Record 46 of Set 11 | muang phonsavan\n",
      "Processing Record 47 of Set 11 | east london\n",
      "Processing Record 48 of Set 11 | la gi\n",
      "Processing Record 49 of Set 11 | muang phon-hong\n",
      "Processing Record 0 of Set 12 | altayskoye\n",
      "Processing Record 1 of Set 12 | camana\n",
      "Processing Record 2 of Set 12 | muroto-misakicho\n",
      "Processing Record 3 of Set 12 | haiku-pauwela\n",
      "Processing Record 4 of Set 12 | hilo\n",
      "Processing Record 5 of Set 12 | kuqa\n",
      "Processing Record 6 of Set 12 | gardner\n",
      "Processing Record 7 of Set 12 | port augusta\n",
      "Processing Record 8 of Set 12 | minab\n",
      "Processing Record 9 of Set 12 | shimoda\n",
      "Processing Record 10 of Set 12 | arar\n",
      "Processing Record 11 of Set 12 | nuzvid\n",
      "Processing Record 12 of Set 12 | antonio enes\n",
      "Processing Record 13 of Set 12 | piti village\n",
      "Processing Record 14 of Set 12 | buka\n",
      "Processing Record 15 of Set 12 | birjand\n",
      "Processing Record 16 of Set 12 | callao\n",
      "Processing Record 17 of Set 12 | samdrup jongkhar\n",
      "Processing Record 18 of Set 12 | floro\n",
      "Processing Record 19 of Set 12 | phang nga\n",
      "Processing Record 20 of Set 12 | garbahaarrey\n",
      "Processing Record 21 of Set 12 | kotabumi\n",
      "Processing Record 22 of Set 12 | greenville\n",
      "Processing Record 23 of Set 12 | zhangjiakou\n",
      "Processing Record 24 of Set 12 | kirensk\n",
      "Processing Record 25 of Set 12 | box elder\n",
      "Processing Record 26 of Set 12 | itaituba\n",
      "Processing Record 27 of Set 12 | suomussalmi\n",
      "Processing Record 28 of Set 12 | nyagan\n",
      "Processing Record 29 of Set 12 | illizi\n",
      "Processing Record 30 of Set 12 | salalah\n",
      "Processing Record 31 of Set 12 | el abiodh sidi cheikh\n",
      "Processing Record 32 of Set 12 | vilyuysk\n",
      "Processing Record 33 of Set 12 | sao miguel do iguacu\n",
      "Processing Record 34 of Set 12 | bathsheba\n",
      "Processing Record 35 of Set 12 | taulaga\n",
      "Processing Record 36 of Set 12 | boundiali\n",
      "Processing Record 37 of Set 12 | bichura\n",
      "Processing Record 38 of Set 12 | mariehamn\n",
      "Processing Record 39 of Set 12 | uyovu\n",
      "Processing Record 40 of Set 12 | uturoa\n",
      "Processing Record 41 of Set 12 | pocatello\n",
      "Processing Record 42 of Set 12 | twentynine palms\n",
      "Processing Record 43 of Set 12 | korla\n",
      "Processing Record 44 of Set 12 | pakxan\n",
      "Processing Record 45 of Set 12 | n'diareme limamoulaye\n",
      "City not found. Skipping...\n",
      "Processing Record 46 of Set 12 | villa ojo de agua\n",
      "Processing Record 47 of Set 12 | umluj\n",
      "Processing Record 48 of Set 12 | manor\n",
      "Processing Record 49 of Set 12 | horta\n",
      "Processing Record 0 of Set 13 | derzhavinsk\n",
      "Processing Record 1 of Set 13 | nieuw amsterdam\n",
      "Processing Record 2 of Set 13 | richards bay\n",
      "Processing Record 3 of Set 13 | puerto carreno\n",
      "Processing Record 4 of Set 13 | khyzy\n",
      "Processing Record 5 of Set 13 | male\n",
      "Processing Record 6 of Set 13 | cheat lake\n",
      "Processing Record 7 of Set 13 | visakhapatnam\n",
      "-----------------------------\n",
      "Data Retrieval Complete      \n",
      "-----------------------------\n"
     ]
    }
   ],
   "source": [
    "# Set the API base URL\n",
    "BASE_URL = f\"http://api.openweathermap.org/data/2.5/weather?units=metric&appid={OPENWEATHER_KEY}\" \n",
    "\n",
    "# Define an empty list to fetch the weather data for each city\n",
    "city_data = []\n",
    "\n",
    "# Print to logger\n",
    "print(\"Beginning Data Retrieval     \")\n",
    "print(\"-----------------------------\")\n",
    "\n",
    "# Create counters\n",
    "record_count = 1\n",
    "set_count = 1\n",
    "\n",
    "# Loop through all the cities in our list to fetch weather data\n",
    "for i, city in enumerate(cities):\n",
    "        \n",
    "    # Group cities in sets of 50 for logging purposes\n",
    "    if (i % 50 == 0 and i >= 50):\n",
    "        set_count += 1\n",
    "        record_count = 0\n",
    "\n",
    "    # Create endpoint URL with each city\n",
    "    city_url = f\"{BASE_URL}&q={city.replace(' ', '+')}\"\n",
    "    \n",
    "    # Log the url, record, and set numbers\n",
    "    print(\"Processing Record %s of Set %s | %s\" % (record_count, set_count, city))\n",
    "\n",
    "    # Add 1 to the record count\n",
    "    record_count += 1\n",
    "\n",
    "    # Run an API request for each of the cities\n",
    "    try:\n",
    "        # Parse the JSON and retrieve data\n",
    "        city_weather = (requests.get(city_url)).json()\n",
    "\n",
    "        # Parse out latitude, longitude, max temp, humidity, cloudiness, wind speed, country, and date\n",
    "        city_lat = city_weather[\"coord\"][\"lat\"]\n",
    "        city_lng = city_weather['coord']['lon']\n",
    "        city_temp_max = city_weather['main']['temp_max']\n",
    "        city_humidity = city_weather['main']['humidity']\n",
    "        city_clouds = city_weather['clouds']['all']\n",
    "        city_wind = city_weather['wind']['speed']\n",
    "        city_country = city_weather['sys']['country']\n",
    "        city_date = city_weather[\"dt\"]\n",
    "\n",
    "        # Append the City information into city_data list\n",
    "        city_data.append({\"City\": city, \n",
    "                          \"Lat\": city_lat, \n",
    "                          \"Lng\": city_lng, \n",
    "                          \"Max Temp\": city_temp_max,\n",
    "                          \"Humidity\": city_humidity,\n",
    "                          \"Cloudiness\": city_clouds,\n",
    "                          \"Wind Speed\": city_wind,\n",
    "                          \"Country\": city_country,\n",
    "                          \"Date\": city_date})\n",
    "\n",
    "    # If an error is experienced, skip the city\n",
    "    except:\n",
    "        print(\"City not found. Skipping...\")\n",
    "        pass\n",
    "              \n",
    "# Indicate that Data Loading is complete \n",
    "print(\"-----------------------------\")\n",
    "print(\"Data Retrieval Complete      \")\n",
    "print(\"-----------------------------\")"
   ]
  },
  {
   "cell_type": "code",
   "execution_count": 25,
   "id": "ba5d050e",
   "metadata": {},
   "outputs": [
    {
     "data": {
      "text/plain": [
       "City          583\n",
       "Lat           583\n",
       "Lng           583\n",
       "Max Temp      583\n",
       "Humidity      583\n",
       "Cloudiness    583\n",
       "Wind Speed    583\n",
       "Country       583\n",
       "Date          583\n",
       "dtype: int64"
      ]
     },
     "execution_count": 25,
     "metadata": {},
     "output_type": "execute_result"
    }
   ],
   "source": [
    "# Convert the cities weather data into a Pandas DataFrame\n",
    "city_data_df = pd.DataFrame(city_data)\n",
    "\n",
    "# Show Record Count\n",
    "city_data_df.count()"
   ]
  },
  {
   "cell_type": "code",
   "execution_count": 26,
   "id": "b1280ada",
   "metadata": {
    "scrolled": true
   },
   "outputs": [
    {
     "data": {
      "text/html": [
       "<div>\n",
       "<style scoped>\n",
       "    .dataframe tbody tr th:only-of-type {\n",
       "        vertical-align: middle;\n",
       "    }\n",
       "\n",
       "    .dataframe tbody tr th {\n",
       "        vertical-align: top;\n",
       "    }\n",
       "\n",
       "    .dataframe thead th {\n",
       "        text-align: right;\n",
       "    }\n",
       "</style>\n",
       "<table border=\"1\" class=\"dataframe\">\n",
       "  <thead>\n",
       "    <tr style=\"text-align: right;\">\n",
       "      <th></th>\n",
       "      <th>City</th>\n",
       "      <th>Lat</th>\n",
       "      <th>Lng</th>\n",
       "      <th>Max Temp</th>\n",
       "      <th>Humidity</th>\n",
       "      <th>Cloudiness</th>\n",
       "      <th>Wind Speed</th>\n",
       "      <th>Country</th>\n",
       "      <th>Date</th>\n",
       "    </tr>\n",
       "  </thead>\n",
       "  <tbody>\n",
       "    <tr>\n",
       "      <th>0</th>\n",
       "      <td>puerto natales</td>\n",
       "      <td>-51.7236</td>\n",
       "      <td>-72.4875</td>\n",
       "      <td>1.31</td>\n",
       "      <td>88</td>\n",
       "      <td>32</td>\n",
       "      <td>2.51</td>\n",
       "      <td>CL</td>\n",
       "      <td>1686962547</td>\n",
       "    </tr>\n",
       "    <tr>\n",
       "      <th>1</th>\n",
       "      <td>qamdo</td>\n",
       "      <td>31.1667</td>\n",
       "      <td>97.2333</td>\n",
       "      <td>7.81</td>\n",
       "      <td>62</td>\n",
       "      <td>100</td>\n",
       "      <td>1.47</td>\n",
       "      <td>CN</td>\n",
       "      <td>1686962547</td>\n",
       "    </tr>\n",
       "    <tr>\n",
       "      <th>2</th>\n",
       "      <td>nar'yan-mar</td>\n",
       "      <td>67.6713</td>\n",
       "      <td>53.0870</td>\n",
       "      <td>3.08</td>\n",
       "      <td>80</td>\n",
       "      <td>100</td>\n",
       "      <td>6.26</td>\n",
       "      <td>RU</td>\n",
       "      <td>1686962548</td>\n",
       "    </tr>\n",
       "    <tr>\n",
       "      <th>3</th>\n",
       "      <td>cadale</td>\n",
       "      <td>2.7603</td>\n",
       "      <td>46.3222</td>\n",
       "      <td>25.74</td>\n",
       "      <td>81</td>\n",
       "      <td>13</td>\n",
       "      <td>8.94</td>\n",
       "      <td>SO</td>\n",
       "      <td>1686962548</td>\n",
       "    </tr>\n",
       "    <tr>\n",
       "      <th>4</th>\n",
       "      <td>alofi</td>\n",
       "      <td>-19.0595</td>\n",
       "      <td>-169.9187</td>\n",
       "      <td>21.94</td>\n",
       "      <td>94</td>\n",
       "      <td>100</td>\n",
       "      <td>4.63</td>\n",
       "      <td>NU</td>\n",
       "      <td>1686962548</td>\n",
       "    </tr>\n",
       "  </tbody>\n",
       "</table>\n",
       "</div>"
      ],
      "text/plain": [
       "             City      Lat       Lng  Max Temp  Humidity  Cloudiness  \\\n",
       "0  puerto natales -51.7236  -72.4875      1.31        88          32   \n",
       "1           qamdo  31.1667   97.2333      7.81        62         100   \n",
       "2     nar'yan-mar  67.6713   53.0870      3.08        80         100   \n",
       "3          cadale   2.7603   46.3222     25.74        81          13   \n",
       "4           alofi -19.0595 -169.9187     21.94        94         100   \n",
       "\n",
       "   Wind Speed Country        Date  \n",
       "0        2.51      CL  1686962547  \n",
       "1        1.47      CN  1686962547  \n",
       "2        6.26      RU  1686962548  \n",
       "3        8.94      SO  1686962548  \n",
       "4        4.63      NU  1686962548  "
      ]
     },
     "execution_count": 26,
     "metadata": {},
     "output_type": "execute_result"
    }
   ],
   "source": [
    "# Display sample data\n",
    "city_data_df.head()"
   ]
  },
  {
   "cell_type": "code",
   "execution_count": 27,
   "id": "61365915",
   "metadata": {},
   "outputs": [],
   "source": [
    "# Export the City_Data into a csv\n",
    "city_data_df.to_csv(\"Cities.csv\")"
   ]
  },
  {
   "cell_type": "code",
   "execution_count": 28,
   "id": "6e670132",
   "metadata": {},
   "outputs": [
    {
     "data": {
      "text/html": [
       "<div>\n",
       "<style scoped>\n",
       "    .dataframe tbody tr th:only-of-type {\n",
       "        vertical-align: middle;\n",
       "    }\n",
       "\n",
       "    .dataframe tbody tr th {\n",
       "        vertical-align: top;\n",
       "    }\n",
       "\n",
       "    .dataframe thead th {\n",
       "        text-align: right;\n",
       "    }\n",
       "</style>\n",
       "<table border=\"1\" class=\"dataframe\">\n",
       "  <thead>\n",
       "    <tr style=\"text-align: right;\">\n",
       "      <th></th>\n",
       "      <th>Unnamed: 0</th>\n",
       "      <th>City</th>\n",
       "      <th>Lat</th>\n",
       "      <th>Lng</th>\n",
       "      <th>Max Temp</th>\n",
       "      <th>Humidity</th>\n",
       "      <th>Cloudiness</th>\n",
       "      <th>Wind Speed</th>\n",
       "      <th>Country</th>\n",
       "      <th>Date</th>\n",
       "    </tr>\n",
       "  </thead>\n",
       "  <tbody>\n",
       "    <tr>\n",
       "      <th>0</th>\n",
       "      <td>0</td>\n",
       "      <td>puerto natales</td>\n",
       "      <td>-51.7236</td>\n",
       "      <td>-72.4875</td>\n",
       "      <td>1.31</td>\n",
       "      <td>88</td>\n",
       "      <td>32</td>\n",
       "      <td>2.51</td>\n",
       "      <td>CL</td>\n",
       "      <td>1686962547</td>\n",
       "    </tr>\n",
       "    <tr>\n",
       "      <th>1</th>\n",
       "      <td>1</td>\n",
       "      <td>qamdo</td>\n",
       "      <td>31.1667</td>\n",
       "      <td>97.2333</td>\n",
       "      <td>7.81</td>\n",
       "      <td>62</td>\n",
       "      <td>100</td>\n",
       "      <td>1.47</td>\n",
       "      <td>CN</td>\n",
       "      <td>1686962547</td>\n",
       "    </tr>\n",
       "    <tr>\n",
       "      <th>2</th>\n",
       "      <td>2</td>\n",
       "      <td>nar'yan-mar</td>\n",
       "      <td>67.6713</td>\n",
       "      <td>53.0870</td>\n",
       "      <td>3.08</td>\n",
       "      <td>80</td>\n",
       "      <td>100</td>\n",
       "      <td>6.26</td>\n",
       "      <td>RU</td>\n",
       "      <td>1686962548</td>\n",
       "    </tr>\n",
       "    <tr>\n",
       "      <th>3</th>\n",
       "      <td>3</td>\n",
       "      <td>cadale</td>\n",
       "      <td>2.7603</td>\n",
       "      <td>46.3222</td>\n",
       "      <td>25.74</td>\n",
       "      <td>81</td>\n",
       "      <td>13</td>\n",
       "      <td>8.94</td>\n",
       "      <td>SO</td>\n",
       "      <td>1686962548</td>\n",
       "    </tr>\n",
       "    <tr>\n",
       "      <th>4</th>\n",
       "      <td>4</td>\n",
       "      <td>alofi</td>\n",
       "      <td>-19.0595</td>\n",
       "      <td>-169.9187</td>\n",
       "      <td>21.94</td>\n",
       "      <td>94</td>\n",
       "      <td>100</td>\n",
       "      <td>4.63</td>\n",
       "      <td>NU</td>\n",
       "      <td>1686962548</td>\n",
       "    </tr>\n",
       "  </tbody>\n",
       "</table>\n",
       "</div>"
      ],
      "text/plain": [
       "   Unnamed: 0            City      Lat       Lng  Max Temp  Humidity  \\\n",
       "0           0  puerto natales -51.7236  -72.4875      1.31        88   \n",
       "1           1           qamdo  31.1667   97.2333      7.81        62   \n",
       "2           2     nar'yan-mar  67.6713   53.0870      3.08        80   \n",
       "3           3          cadale   2.7603   46.3222     25.74        81   \n",
       "4           4           alofi -19.0595 -169.9187     21.94        94   \n",
       "\n",
       "   Cloudiness  Wind Speed Country        Date  \n",
       "0          32        2.51      CL  1686962547  \n",
       "1         100        1.47      CN  1686962547  \n",
       "2         100        6.26      RU  1686962548  \n",
       "3          13        8.94      SO  1686962548  \n",
       "4         100        4.63      NU  1686962548  "
      ]
     },
     "execution_count": 28,
     "metadata": {},
     "output_type": "execute_result"
    }
   ],
   "source": [
    "# Read saved data\n",
    "city_data_df = pd.read_csv(\"Cities.csv\")\n",
    "\n",
    "# Display sample data\n",
    "city_data_df.head()"
   ]
  },
  {
   "cell_type": "markdown",
   "id": "7dfee0dc",
   "metadata": {},
   "source": [
    "## Create the Scatter Plots Requested "
   ]
  },
  {
   "cell_type": "markdown",
   "id": "a3042622",
   "metadata": {},
   "source": [
    "### Latitude Vs. Temperature"
   ]
  },
  {
   "cell_type": "code",
   "execution_count": 29,
   "id": "829653a4",
   "metadata": {},
   "outputs": [
    {
     "data": {
      "image/png": "[encoded data removed]",
      "text/plain": [
       "<Figure size 432x288 with 1 Axes>"
      ]
     },
     "metadata": {
      "needs_background": "light"
     },
     "output_type": "display_data"
    }
   ],
   "source": [
    "# Build scatter plot for latitude vs. temperature\n",
    "plt.scatter(city_data_df[\"Max Temp\"], city_data_df[\"Lat\"])\n",
    "\n",
    "# Incorporate the other graph properties\n",
    "plt.xlabel(\"Latitude\")\n",
    "plt.ylabel(\"Max Temperature\")\n",
    "\n",
    "# Show plot\n",
    "plt.show()"
   ]
  },
  {
   "cell_type": "markdown",
   "id": "7e98ef91",
   "metadata": {},
   "source": [
    "### Latitude Vs. Humidity "
   ]
  },
  {
   "cell_type": "code",
   "execution_count": 30,
   "id": "257021bc",
   "metadata": {},
   "outputs": [
    {
     "data": {
      "image/png": "[encoded data removed]",
      "text/plain": [
       "<Figure size 432x288 with 1 Axes>"
      ]
     },
     "metadata": {
      "needs_background": "light"
     },
     "output_type": "display_data"
    }
   ],
   "source": [
    "# Build the scatter plots for latitude vs. humidity\n",
    "plt.scatter(city_data_df[\"Humidity\"], city_data_df[\"Lat\"])\n",
    "\n",
    "# Incorporate the other graph properties\n",
    "plt.xlabel(\"Latitude\")\n",
    "plt.ylabel(\"Humidity\")\n",
    "\n",
    "# Show plot\n",
    "plt.show()"
   ]
  },
  {
   "cell_type": "markdown",
   "id": "1daa0120",
   "metadata": {},
   "source": [
    "### Latitude Vs. Cloudiness"
   ]
  },
  {
   "cell_type": "code",
   "execution_count": 31,
   "id": "4a302f2b",
   "metadata": {},
   "outputs": [
    {
     "data": {
      "image/png": "[encoded data removed]",
      "text/plain": [
       "<Figure size 432x288 with 1 Axes>"
      ]
     },
     "metadata": {
      "needs_background": "light"
     },
     "output_type": "display_data"
    }
   ],
   "source": [
    "# Build the scatter plots for latitude vs. cloudiness\n",
    "plt.scatter(city_data_df[\"Cloudiness\"], city_data_df[\"Lat\"])\n",
    "\n",
    "# Incorporate the other graph properties\n",
    "plt.xlabel(\"Latitude\")\n",
    "plt.ylabel(\"Cloudiness\")\n",
    "\n",
    "# Show plot\n",
    "plt.show()"
   ]
  },
  {
   "cell_type": "markdown",
   "id": "605d3ed8",
   "metadata": {},
   "source": [
    "### Latitude Vs. Wind Speed Plot"
   ]
  },
  {
   "cell_type": "code",
   "execution_count": 32,
   "id": "3329dad1",
   "metadata": {},
   "outputs": [
    {
     "data": {
      "image/png": "[encoded data removed]",
      "text/plain": [
       "<Figure size 432x288 with 1 Axes>"
      ]
     },
     "metadata": {
      "needs_background": "light"
     },
     "output_type": "display_data"
    }
   ],
   "source": [
    "# Build the scatter plots for latitude vs. wind speed\n",
    "plt.scatter(city_data_df[\"Wind Speed\"], city_data_df[\"Lat\"])\n",
    "\n",
    "# Incorporate the other graph properties\n",
    "plt.xlabel(\"Latitude\")\n",
    "plt.ylabel(\"Wind Speed\")\n",
    "\n",
    "# Show plot\n",
    "plt.show()"
   ]
  },
  {
   "cell_type": "markdown",
   "id": "e5af8692",
   "metadata": {},
   "source": [
    "## Requirment 2: Compute Linear Regression for Each Relationship"
   ]
  },
  {
   "cell_type": "code",
   "execution_count": 33,
   "id": "1c9ceea8",
   "metadata": {},
   "outputs": [],
   "source": [
    "# Define a function to create Linear Regression plots\n",
    "def linear_regress(x, y, eqn_coordinates):\n",
    "    r = st.pearsonr(x, y)\n",
    "    print(f\"The r-value is: {r[0]}\")\n",
    "    (slope, intercept, rvalue, pvalue, stderr) = linregress(x, y)\n",
    "    regress_values = x * slope + intercept\n",
    "    line_eq = f\"y ={slope: .2f}x +{intercept: .2f}\"\n",
    "    plt.plot(x, regress_values, \"r-\")\n",
    "    plt.annotate(line_eq, eqn_coordinates, fontsize=12, color=\"red\")\n",
    "    plt.scatter(x, y)\n",
    "    plt.xlabel(f\"{x.name}\")\n",
    "    plt.ylabel(f\"{y.name}\")"
   ]
  },
  {
   "cell_type": "code",
   "execution_count": 34,
   "id": "59e365f9",
   "metadata": {},
   "outputs": [
    {
     "data": {
      "text/html": [
       "<div>\n",
       "<style scoped>\n",
       "    .dataframe tbody tr th:only-of-type {\n",
       "        vertical-align: middle;\n",
       "    }\n",
       "\n",
       "    .dataframe tbody tr th {\n",
       "        vertical-align: top;\n",
       "    }\n",
       "\n",
       "    .dataframe thead th {\n",
       "        text-align: right;\n",
       "    }\n",
       "</style>\n",
       "<table border=\"1\" class=\"dataframe\">\n",
       "  <thead>\n",
       "    <tr style=\"text-align: right;\">\n",
       "      <th></th>\n",
       "      <th>Unnamed: 0</th>\n",
       "      <th>City</th>\n",
       "      <th>Lat</th>\n",
       "      <th>Lng</th>\n",
       "      <th>Max Temp</th>\n",
       "      <th>Humidity</th>\n",
       "      <th>Cloudiness</th>\n",
       "      <th>Wind Speed</th>\n",
       "      <th>Country</th>\n",
       "      <th>Date</th>\n",
       "    </tr>\n",
       "  </thead>\n",
       "  <tbody>\n",
       "    <tr>\n",
       "      <th>1</th>\n",
       "      <td>1</td>\n",
       "      <td>qamdo</td>\n",
       "      <td>31.1667</td>\n",
       "      <td>97.2333</td>\n",
       "      <td>7.81</td>\n",
       "      <td>62</td>\n",
       "      <td>100</td>\n",
       "      <td>1.47</td>\n",
       "      <td>CN</td>\n",
       "      <td>1686962547</td>\n",
       "    </tr>\n",
       "    <tr>\n",
       "      <th>2</th>\n",
       "      <td>2</td>\n",
       "      <td>nar'yan-mar</td>\n",
       "      <td>67.6713</td>\n",
       "      <td>53.0870</td>\n",
       "      <td>3.08</td>\n",
       "      <td>80</td>\n",
       "      <td>100</td>\n",
       "      <td>6.26</td>\n",
       "      <td>RU</td>\n",
       "      <td>1686962548</td>\n",
       "    </tr>\n",
       "    <tr>\n",
       "      <th>3</th>\n",
       "      <td>3</td>\n",
       "      <td>cadale</td>\n",
       "      <td>2.7603</td>\n",
       "      <td>46.3222</td>\n",
       "      <td>25.74</td>\n",
       "      <td>81</td>\n",
       "      <td>13</td>\n",
       "      <td>8.94</td>\n",
       "      <td>SO</td>\n",
       "      <td>1686962548</td>\n",
       "    </tr>\n",
       "    <tr>\n",
       "      <th>5</th>\n",
       "      <td>5</td>\n",
       "      <td>albany</td>\n",
       "      <td>42.6001</td>\n",
       "      <td>-73.9662</td>\n",
       "      <td>16.76</td>\n",
       "      <td>92</td>\n",
       "      <td>100</td>\n",
       "      <td>1.26</td>\n",
       "      <td>US</td>\n",
       "      <td>1686962548</td>\n",
       "    </tr>\n",
       "    <tr>\n",
       "      <th>6</th>\n",
       "      <td>6</td>\n",
       "      <td>georgetown</td>\n",
       "      <td>5.4112</td>\n",
       "      <td>100.3354</td>\n",
       "      <td>27.96</td>\n",
       "      <td>100</td>\n",
       "      <td>20</td>\n",
       "      <td>1.03</td>\n",
       "      <td>MY</td>\n",
       "      <td>1686962548</td>\n",
       "    </tr>\n",
       "  </tbody>\n",
       "</table>\n",
       "</div>"
      ],
      "text/plain": [
       "   Unnamed: 0         City      Lat       Lng  Max Temp  Humidity  Cloudiness  \\\n",
       "1           1        qamdo  31.1667   97.2333      7.81        62         100   \n",
       "2           2  nar'yan-mar  67.6713   53.0870      3.08        80         100   \n",
       "3           3       cadale   2.7603   46.3222     25.74        81          13   \n",
       "5           5       albany  42.6001  -73.9662     16.76        92         100   \n",
       "6           6   georgetown   5.4112  100.3354     27.96       100          20   \n",
       "\n",
       "   Wind Speed Country        Date  \n",
       "1        1.47      CN  1686962547  \n",
       "2        6.26      RU  1686962548  \n",
       "3        8.94      SO  1686962548  \n",
       "5        1.26      US  1686962548  \n",
       "6        1.03      MY  1686962548  "
      ]
     },
     "execution_count": 34,
     "metadata": {},
     "output_type": "execute_result"
    }
   ],
   "source": [
    "# Create a DataFrame with the Northern Hemisphere data (Latitude >= 0)\n",
    "northern_hemi_df = city_data_df.loc[city_data_df[\"Lat\"] >= 0]\n",
    "\n",
    "# Display sample data\n",
    "northern_hemi_df.head()"
   ]
  },
  {
   "cell_type": "code",
   "execution_count": 35,
   "id": "edbade7d",
   "metadata": {},
   "outputs": [
    {
     "data": {
      "text/html": [
       "<div>\n",
       "<style scoped>\n",
       "    .dataframe tbody tr th:only-of-type {\n",
       "        vertical-align: middle;\n",
       "    }\n",
       "\n",
       "    .dataframe tbody tr th {\n",
       "        vertical-align: top;\n",
       "    }\n",
       "\n",
       "    .dataframe thead th {\n",
       "        text-align: right;\n",
       "    }\n",
       "</style>\n",
       "<table border=\"1\" class=\"dataframe\">\n",
       "  <thead>\n",
       "    <tr style=\"text-align: right;\">\n",
       "      <th></th>\n",
       "      <th>Unnamed: 0</th>\n",
       "      <th>City</th>\n",
       "      <th>Lat</th>\n",
       "      <th>Lng</th>\n",
       "      <th>Max Temp</th>\n",
       "      <th>Humidity</th>\n",
       "      <th>Cloudiness</th>\n",
       "      <th>Wind Speed</th>\n",
       "      <th>Country</th>\n",
       "      <th>Date</th>\n",
       "    </tr>\n",
       "  </thead>\n",
       "  <tbody>\n",
       "    <tr>\n",
       "      <th>0</th>\n",
       "      <td>0</td>\n",
       "      <td>puerto natales</td>\n",
       "      <td>-51.7236</td>\n",
       "      <td>-72.4875</td>\n",
       "      <td>1.31</td>\n",
       "      <td>88</td>\n",
       "      <td>32</td>\n",
       "      <td>2.51</td>\n",
       "      <td>CL</td>\n",
       "      <td>1686962547</td>\n",
       "    </tr>\n",
       "    <tr>\n",
       "      <th>4</th>\n",
       "      <td>4</td>\n",
       "      <td>alofi</td>\n",
       "      <td>-19.0595</td>\n",
       "      <td>-169.9187</td>\n",
       "      <td>21.94</td>\n",
       "      <td>94</td>\n",
       "      <td>100</td>\n",
       "      <td>4.63</td>\n",
       "      <td>NU</td>\n",
       "      <td>1686962548</td>\n",
       "    </tr>\n",
       "    <tr>\n",
       "      <th>7</th>\n",
       "      <td>7</td>\n",
       "      <td>adamstown</td>\n",
       "      <td>-25.0660</td>\n",
       "      <td>-130.1015</td>\n",
       "      <td>21.51</td>\n",
       "      <td>68</td>\n",
       "      <td>100</td>\n",
       "      <td>3.26</td>\n",
       "      <td>PN</td>\n",
       "      <td>1686962549</td>\n",
       "    </tr>\n",
       "    <tr>\n",
       "      <th>8</th>\n",
       "      <td>8</td>\n",
       "      <td>grytviken</td>\n",
       "      <td>-54.2811</td>\n",
       "      <td>-36.5092</td>\n",
       "      <td>-0.01</td>\n",
       "      <td>83</td>\n",
       "      <td>23</td>\n",
       "      <td>6.65</td>\n",
       "      <td>GS</td>\n",
       "      <td>1686962549</td>\n",
       "    </tr>\n",
       "    <tr>\n",
       "      <th>9</th>\n",
       "      <td>9</td>\n",
       "      <td>campo grande</td>\n",
       "      <td>-20.4428</td>\n",
       "      <td>-54.6464</td>\n",
       "      <td>13.75</td>\n",
       "      <td>82</td>\n",
       "      <td>75</td>\n",
       "      <td>3.09</td>\n",
       "      <td>BR</td>\n",
       "      <td>1686962548</td>\n",
       "    </tr>\n",
       "  </tbody>\n",
       "</table>\n",
       "</div>"
      ],
      "text/plain": [
       "   Unnamed: 0            City      Lat       Lng  Max Temp  Humidity  \\\n",
       "0           0  puerto natales -51.7236  -72.4875      1.31        88   \n",
       "4           4           alofi -19.0595 -169.9187     21.94        94   \n",
       "7           7       adamstown -25.0660 -130.1015     21.51        68   \n",
       "8           8       grytviken -54.2811  -36.5092     -0.01        83   \n",
       "9           9    campo grande -20.4428  -54.6464     13.75        82   \n",
       "\n",
       "   Cloudiness  Wind Speed Country        Date  \n",
       "0          32        2.51      CL  1686962547  \n",
       "4         100        4.63      NU  1686962548  \n",
       "7         100        3.26      PN  1686962549  \n",
       "8          23        6.65      GS  1686962549  \n",
       "9          75        3.09      BR  1686962548  "
      ]
     },
     "execution_count": 35,
     "metadata": {},
     "output_type": "execute_result"
    }
   ],
   "source": [
    "# Create a DataFrame with the Southern Hemisphere data (Latitude < 0)\n",
    "southern_hemi_df = city_data_df.loc[city_data_df[\"Lat\"] < 0]\n",
    "\n",
    "# Display sample data\n",
    "southern_hemi_df.head()"
   ]
  },
  {
   "cell_type": "markdown",
   "id": "2d8d5238",
   "metadata": {},
   "source": [
    "### Temperature Vs. Latitude Linear Rgression Plot"
   ]
  },
  {
   "cell_type": "code",
   "execution_count": 36,
   "id": "879dbb33",
   "metadata": {
    "scrolled": false
   },
   "outputs": [
    {
     "name": "stdout",
     "output_type": "stream",
     "text": [
      "The r-value is: -0.7611428057906036\n"
     ]
    },
    {
     "data": {
      "image/png": "[encoded data removed]",
      "text/plain": [
       "<Figure size 432x288 with 1 Axes>"
      ]
     },
     "metadata": {
      "needs_background": "light"
     },
     "output_type": "display_data"
    }
   ],
   "source": [
    "# Linear regression on Northern Hemisphere\n",
    "linear_regress(northern_hemi_df[\"Lat\"].rename(\"Latitude\"), northern_hemi_df[\"Max Temp\"], (4, 8))"
   ]
  },
  {
   "cell_type": "code",
   "execution_count": 37,
   "id": "3015e0ca",
   "metadata": {
    "scrolled": true
   },
   "outputs": [
    {
     "name": "stdout",
     "output_type": "stream",
     "text": [
      "The r-value is: 0.7624533684358409\n"
     ]
    },
    {
     "data": {
      "image/png": "[encoded data removed]",
      "text/plain": [
       "<Figure size 432x288 with 1 Axes>"
      ]
     },
     "metadata": {
      "needs_background": "light"
     },
     "output_type": "display_data"
    }
   ],
   "source": [
    "# Linear regression on Southern Hemisphere\n",
    "linear_regress(southern_hemi_df[\"Lat\"].rename(\"Latitude\"), southern_hemi_df[\"Max Temp\"], (-50, 25))"
   ]
  },
  {
   "cell_type": "markdown",
   "id": "718dd61d",
   "metadata": {},
   "source": [
    "### Discussion about the linear relationship: "
   ]
  },
  {
   "cell_type": "markdown",
   "id": "7fc2946a",
   "metadata": {},
   "source": [
    "#### - There is a negative correlation between \"Latitude\" and \"Max Temperature\" on the Northern Hemisphere.\n",
    "#### - There is a positve correlation between \"Latitude\" and \"Max Temperature\"  on the Southern Hemisphere."
   ]
  },
  {
   "cell_type": "markdown",
   "id": "85ce861e",
   "metadata": {},
   "source": [
    "### Humidity Vs. Latitude Linear Regression Plot"
   ]
  },
  {
   "cell_type": "code",
   "execution_count": 38,
   "id": "6b3d0bdc",
   "metadata": {
    "scrolled": true
   },
   "outputs": [
    {
     "name": "stdout",
     "output_type": "stream",
     "text": [
      "The r-value is: -0.09562109012278587\n"
     ]
    },
    {
     "data": {
      "image/png": "[encoded data removed]",
      "text/plain": [
       "<Figure size 432x288 with 1 Axes>"
      ]
     },
     "metadata": {
      "needs_background": "light"
     },
     "output_type": "display_data"
    }
   ],
   "source": [
    "# Northern Hemisphere\n",
    "linear_regress(northern_hemi_df[\"Lat\"].rename(\"Latitude\"), northern_hemi_df[\"Humidity\"], (50, 10))"
   ]
  },
  {
   "cell_type": "code",
   "execution_count": 39,
   "id": "0a90506a",
   "metadata": {},
   "outputs": [
    {
     "name": "stdout",
     "output_type": "stream",
     "text": [
      "The r-value is: 0.20262745932191156\n"
     ]
    },
    {
     "data": {
      "image/png": "[encoded data removed]",
      "text/plain": [
       "<Figure size 432x288 with 1 Axes>"
      ]
     },
     "metadata": {
      "needs_background": "light"
     },
     "output_type": "display_data"
    }
   ],
   "source": [
    "# Southern Hemisphere\n",
    "linear_regress(southern_hemi_df[\"Lat\"].rename(\"Latitude\"), southern_hemi_df[\"Humidity\"], (-50, 20))"
   ]
  },
  {
   "cell_type": "markdown",
   "id": "7f367ee4",
   "metadata": {},
   "source": [
    "### Discussion about the linear relationship: "
   ]
  },
  {
   "cell_type": "markdown",
   "id": "c90a5a49",
   "metadata": {},
   "source": [
    "### Cloudiness Vs. Latitude Linear Regression Plot "
   ]
  },
  {
   "cell_type": "markdown",
   "id": "a61202f1",
   "metadata": {},
   "source": [
    "#### - There is a negative correlation between \"Latitude\" and \"Humidity\" on the Northern Hemisphere.\n",
    "#### - There is a positive correlation between \"Latitude\" and \"Humidity\" on the Southern Hemisphere."
   ]
  },
  {
   "cell_type": "code",
   "execution_count": 40,
   "id": "0a8ed27c",
   "metadata": {},
   "outputs": [
    {
     "name": "stdout",
     "output_type": "stream",
     "text": [
      "The r-value is: -0.025853778509679633\n"
     ]
    },
    {
     "data": {
      "image/png": "[encoded data removed]",
      "text/plain": [
       "<Figure size 432x288 with 1 Axes>"
      ]
     },
     "metadata": {
      "needs_background": "light"
     },
     "output_type": "display_data"
    }
   ],
   "source": [
    "# Northern Hemisphere\n",
    "linear_regress(northern_hemi_df[\"Lat\"].rename(\"Latitude\"), northern_hemi_df[\"Cloudiness\"], (40, 50))"
   ]
  },
  {
   "cell_type": "code",
   "execution_count": 41,
   "id": "6900cf99",
   "metadata": {
    "scrolled": true
   },
   "outputs": [
    {
     "name": "stdout",
     "output_type": "stream",
     "text": [
      "The r-value is: 0.24104367971874613\n"
     ]
    },
    {
     "data": {
      "image/png": "[encoded data removed]",
      "text/plain": [
       "<Figure size 432x288 with 1 Axes>"
      ]
     },
     "metadata": {
      "needs_background": "light"
     },
     "output_type": "display_data"
    }
   ],
   "source": [
    "# Southern Hemisphere\n",
    "linear_regress(southern_hemi_df[\"Lat\"].rename(\"Latitude\"), southern_hemi_df[\"Cloudiness\"], (-50, 48))"
   ]
  },
  {
   "cell_type": "markdown",
   "id": "f517e045",
   "metadata": {},
   "source": [
    "### Discussion about the linear relationship:"
   ]
  },
  {
   "cell_type": "markdown",
   "id": "a7f28d89",
   "metadata": {},
   "source": [
    "####  - There is a negative correlation between \"Latitude\" and \"Cloudiness\" on the Northern Hemisphere.\n",
    "#### - There is a positive correlation between \"Latitude\" and \"Cloudiness\" on the Southern Hemisphere."
   ]
  },
  {
   "cell_type": "markdown",
   "id": "716d81e7",
   "metadata": {},
   "source": [
    "### Wind Speed Vs. Latitude Linear Regression Plot "
   ]
  },
  {
   "cell_type": "code",
   "execution_count": 42,
   "id": "3983558a",
   "metadata": {},
   "outputs": [
    {
     "name": "stdout",
     "output_type": "stream",
     "text": [
      "The r-value is: -0.033034625701605876\n"
     ]
    },
    {
     "data": {
      "image/png": "[encoded data removed]",
      "text/plain": [
       "<Figure size 432x288 with 1 Axes>"
      ]
     },
     "metadata": {
      "needs_background": "light"
     },
     "output_type": "display_data"
    }
   ],
   "source": [
    "# Northern Hemisphere\n",
    "linear_regress(northern_hemi_df[\"Lat\"].rename(\"Latitude\"), northern_hemi_df[\"Wind Speed\"], (10, 14))"
   ]
  },
  {
   "cell_type": "code",
   "execution_count": 43,
   "id": "00687bd3",
   "metadata": {},
   "outputs": [
    {
     "name": "stdout",
     "output_type": "stream",
     "text": [
      "The r-value is: -0.26291642799063397\n"
     ]
    },
    {
     "data": {
      "image/png": "[encoded data removed]",
      "text/plain": [
       "<Figure size 432x288 with 1 Axes>"
      ]
     },
     "metadata": {
      "needs_background": "light"
     },
     "output_type": "display_data"
    }
   ],
   "source": [
    "# Southern Hemisphere\n",
    "linear_regress(southern_hemi_df[\"Lat\"].rename(\"Latitude\"), southern_hemi_df[\"Wind Speed\"], (-50, 10))"
   ]
  },
  {
   "cell_type": "markdown",
   "id": "115f08b6",
   "metadata": {},
   "source": [
    "### Discussion about the linear relationship: "
   ]
  },
  {
   "cell_type": "markdown",
   "id": "7484c010",
   "metadata": {},
   "source": [
    "#### -  There is a negative correlation between \"Latitude\" and \"Wind Speed\" on the Northern Hemisphere.\n",
    "#### - There is a negative correlation between \"Latitude\" and \"Wind Speed\" on the Southern Hemisphere."
   ]
  },
  {
   "cell_type": "code",
   "execution_count": null,
   "id": "e11a1984",
   "metadata": {},
   "outputs": [],
   "source": []
  }
 ],
 "metadata": {
  "kernelspec": {
   "display_name": "Python 3 (ipykernel)",
   "language": "python",
   "name": "python3"
  },
  "language_info": {
   "codemirror_mode": {
    "name": "ipython",
    "version": 3
   },
   "file_extension": ".py",
   "mimetype": "text/x-python",
   "name": "python",
   "nbconvert_exporter": "python",
   "pygments_lexer": "ipython3",
   "version": "3.9.12"
  }
 },
 "nbformat": 4,
 "nbformat_minor": 5
}
